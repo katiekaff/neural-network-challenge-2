{
  "cells": [
    {
      "cell_type": "markdown",
      "metadata": {
        "id": "alIIEHibGc3M"
      },
      "source": [
        "## Part 1: Preprocessing"
      ]
    },
    {
      "cell_type": "code",
      "execution_count": 1,
      "metadata": {
        "colab": {
          "base_uri": "https://localhost:8080/",
          "height": 325
        },
        "id": "6eDUJ4NtGc3P",
        "outputId": "2480098c-135c-4cbf-9552-018494ee8ff5"
      },
      "outputs": [
        {
          "data": {
            "text/html": [
              "\n",
              "  <div id=\"df-49f59fa8-49bd-457f-9a96-7b66b83453ba\" class=\"colab-df-container\">\n",
              "    <div>\n",
              "<style scoped>\n",
              "    .dataframe tbody tr th:only-of-type {\n",
              "        vertical-align: middle;\n",
              "    }\n",
              "\n",
              "    .dataframe tbody tr th {\n",
              "        vertical-align: top;\n",
              "    }\n",
              "\n",
              "    .dataframe thead th {\n",
              "        text-align: right;\n",
              "    }\n",
              "</style>\n",
              "<table border=\"1\" class=\"dataframe\">\n",
              "  <thead>\n",
              "    <tr style=\"text-align: right;\">\n",
              "      <th></th>\n",
              "      <th>Age</th>\n",
              "      <th>Attrition</th>\n",
              "      <th>BusinessTravel</th>\n",
              "      <th>Department</th>\n",
              "      <th>DistanceFromHome</th>\n",
              "      <th>Education</th>\n",
              "      <th>EducationField</th>\n",
              "      <th>EnvironmentSatisfaction</th>\n",
              "      <th>HourlyRate</th>\n",
              "      <th>JobInvolvement</th>\n",
              "      <th>...</th>\n",
              "      <th>PerformanceRating</th>\n",
              "      <th>RelationshipSatisfaction</th>\n",
              "      <th>StockOptionLevel</th>\n",
              "      <th>TotalWorkingYears</th>\n",
              "      <th>TrainingTimesLastYear</th>\n",
              "      <th>WorkLifeBalance</th>\n",
              "      <th>YearsAtCompany</th>\n",
              "      <th>YearsInCurrentRole</th>\n",
              "      <th>YearsSinceLastPromotion</th>\n",
              "      <th>YearsWithCurrManager</th>\n",
              "    </tr>\n",
              "  </thead>\n",
              "  <tbody>\n",
              "    <tr>\n",
              "      <th>0</th>\n",
              "      <td>41</td>\n",
              "      <td>Yes</td>\n",
              "      <td>Travel_Rarely</td>\n",
              "      <td>Sales</td>\n",
              "      <td>1</td>\n",
              "      <td>2</td>\n",
              "      <td>Life Sciences</td>\n",
              "      <td>2</td>\n",
              "      <td>94</td>\n",
              "      <td>3</td>\n",
              "      <td>...</td>\n",
              "      <td>3</td>\n",
              "      <td>1</td>\n",
              "      <td>0</td>\n",
              "      <td>8</td>\n",
              "      <td>0</td>\n",
              "      <td>1</td>\n",
              "      <td>6</td>\n",
              "      <td>4</td>\n",
              "      <td>0</td>\n",
              "      <td>5</td>\n",
              "    </tr>\n",
              "    <tr>\n",
              "      <th>1</th>\n",
              "      <td>49</td>\n",
              "      <td>No</td>\n",
              "      <td>Travel_Frequently</td>\n",
              "      <td>Research &amp; Development</td>\n",
              "      <td>8</td>\n",
              "      <td>1</td>\n",
              "      <td>Life Sciences</td>\n",
              "      <td>3</td>\n",
              "      <td>61</td>\n",
              "      <td>2</td>\n",
              "      <td>...</td>\n",
              "      <td>4</td>\n",
              "      <td>4</td>\n",
              "      <td>1</td>\n",
              "      <td>10</td>\n",
              "      <td>3</td>\n",
              "      <td>3</td>\n",
              "      <td>10</td>\n",
              "      <td>7</td>\n",
              "      <td>1</td>\n",
              "      <td>7</td>\n",
              "    </tr>\n",
              "    <tr>\n",
              "      <th>2</th>\n",
              "      <td>37</td>\n",
              "      <td>Yes</td>\n",
              "      <td>Travel_Rarely</td>\n",
              "      <td>Research &amp; Development</td>\n",
              "      <td>2</td>\n",
              "      <td>2</td>\n",
              "      <td>Other</td>\n",
              "      <td>4</td>\n",
              "      <td>92</td>\n",
              "      <td>2</td>\n",
              "      <td>...</td>\n",
              "      <td>3</td>\n",
              "      <td>2</td>\n",
              "      <td>0</td>\n",
              "      <td>7</td>\n",
              "      <td>3</td>\n",
              "      <td>3</td>\n",
              "      <td>0</td>\n",
              "      <td>0</td>\n",
              "      <td>0</td>\n",
              "      <td>0</td>\n",
              "    </tr>\n",
              "    <tr>\n",
              "      <th>3</th>\n",
              "      <td>33</td>\n",
              "      <td>No</td>\n",
              "      <td>Travel_Frequently</td>\n",
              "      <td>Research &amp; Development</td>\n",
              "      <td>3</td>\n",
              "      <td>4</td>\n",
              "      <td>Life Sciences</td>\n",
              "      <td>4</td>\n",
              "      <td>56</td>\n",
              "      <td>3</td>\n",
              "      <td>...</td>\n",
              "      <td>3</td>\n",
              "      <td>3</td>\n",
              "      <td>0</td>\n",
              "      <td>8</td>\n",
              "      <td>3</td>\n",
              "      <td>3</td>\n",
              "      <td>8</td>\n",
              "      <td>7</td>\n",
              "      <td>3</td>\n",
              "      <td>0</td>\n",
              "    </tr>\n",
              "    <tr>\n",
              "      <th>4</th>\n",
              "      <td>27</td>\n",
              "      <td>No</td>\n",
              "      <td>Travel_Rarely</td>\n",
              "      <td>Research &amp; Development</td>\n",
              "      <td>2</td>\n",
              "      <td>1</td>\n",
              "      <td>Medical</td>\n",
              "      <td>1</td>\n",
              "      <td>40</td>\n",
              "      <td>3</td>\n",
              "      <td>...</td>\n",
              "      <td>3</td>\n",
              "      <td>4</td>\n",
              "      <td>1</td>\n",
              "      <td>6</td>\n",
              "      <td>3</td>\n",
              "      <td>3</td>\n",
              "      <td>2</td>\n",
              "      <td>2</td>\n",
              "      <td>2</td>\n",
              "      <td>2</td>\n",
              "    </tr>\n",
              "  </tbody>\n",
              "</table>\n",
              "<p>5 rows × 27 columns</p>\n",
              "</div>\n",
              "    <div class=\"colab-df-buttons\">\n",
              "\n",
              "  <div class=\"colab-df-container\">\n",
              "    <button class=\"colab-df-convert\" onclick=\"convertToInteractive('df-49f59fa8-49bd-457f-9a96-7b66b83453ba')\"\n",
              "            title=\"Convert this dataframe to an interactive table.\"\n",
              "            style=\"display:none;\">\n",
              "\n",
              "  <svg xmlns=\"http://www.w3.org/2000/svg\" height=\"24px\" viewBox=\"0 -960 960 960\">\n",
              "    <path d=\"M120-120v-720h720v720H120Zm60-500h600v-160H180v160Zm220 220h160v-160H400v160Zm0 220h160v-160H400v160ZM180-400h160v-160H180v160Zm440 0h160v-160H620v160ZM180-180h160v-160H180v160Zm440 0h160v-160H620v160Z\"/>\n",
              "  </svg>\n",
              "    </button>\n",
              "\n",
              "  <style>\n",
              "    .colab-df-container {\n",
              "      display:flex;\n",
              "      gap: 12px;\n",
              "    }\n",
              "\n",
              "    .colab-df-convert {\n",
              "      background-color: #E8F0FE;\n",
              "      border: none;\n",
              "      border-radius: 50%;\n",
              "      cursor: pointer;\n",
              "      display: none;\n",
              "      fill: #1967D2;\n",
              "      height: 32px;\n",
              "      padding: 0 0 0 0;\n",
              "      width: 32px;\n",
              "    }\n",
              "\n",
              "    .colab-df-convert:hover {\n",
              "      background-color: #E2EBFA;\n",
              "      box-shadow: 0px 1px 2px rgba(60, 64, 67, 0.3), 0px 1px 3px 1px rgba(60, 64, 67, 0.15);\n",
              "      fill: #174EA6;\n",
              "    }\n",
              "\n",
              "    .colab-df-buttons div {\n",
              "      margin-bottom: 4px;\n",
              "    }\n",
              "\n",
              "    [theme=dark] .colab-df-convert {\n",
              "      background-color: #3B4455;\n",
              "      fill: #D2E3FC;\n",
              "    }\n",
              "\n",
              "    [theme=dark] .colab-df-convert:hover {\n",
              "      background-color: #434B5C;\n",
              "      box-shadow: 0px 1px 3px 1px rgba(0, 0, 0, 0.15);\n",
              "      filter: drop-shadow(0px 1px 2px rgba(0, 0, 0, 0.3));\n",
              "      fill: #FFFFFF;\n",
              "    }\n",
              "  </style>\n",
              "\n",
              "    <script>\n",
              "      const buttonEl =\n",
              "        document.querySelector('#df-49f59fa8-49bd-457f-9a96-7b66b83453ba button.colab-df-convert');\n",
              "      buttonEl.style.display =\n",
              "        google.colab.kernel.accessAllowed ? 'block' : 'none';\n",
              "\n",
              "      async function convertToInteractive(key) {\n",
              "        const element = document.querySelector('#df-49f59fa8-49bd-457f-9a96-7b66b83453ba');\n",
              "        const dataTable =\n",
              "          await google.colab.kernel.invokeFunction('convertToInteractive',\n",
              "                                                    [key], {});\n",
              "        if (!dataTable) return;\n",
              "\n",
              "        const docLinkHtml = 'Like what you see? Visit the ' +\n",
              "          '<a target=\"_blank\" href=https://colab.research.google.com/notebooks/data_table.ipynb>data table notebook</a>'\n",
              "          + ' to learn more about interactive tables.';\n",
              "        element.innerHTML = '';\n",
              "        dataTable['output_type'] = 'display_data';\n",
              "        await google.colab.output.renderOutput(dataTable, element);\n",
              "        const docLink = document.createElement('div');\n",
              "        docLink.innerHTML = docLinkHtml;\n",
              "        element.appendChild(docLink);\n",
              "      }\n",
              "    </script>\n",
              "  </div>\n",
              "\n",
              "\n",
              "<div id=\"df-0ee350b8-0fab-4f0d-94a8-6b9dc8ac3700\">\n",
              "  <button class=\"colab-df-quickchart\" onclick=\"quickchart('df-0ee350b8-0fab-4f0d-94a8-6b9dc8ac3700')\"\n",
              "            title=\"Suggest charts\"\n",
              "            style=\"display:none;\">\n",
              "\n",
              "<svg xmlns=\"http://www.w3.org/2000/svg\" height=\"24px\"viewBox=\"0 0 24 24\"\n",
              "     width=\"24px\">\n",
              "    <g>\n",
              "        <path d=\"M19 3H5c-1.1 0-2 .9-2 2v14c0 1.1.9 2 2 2h14c1.1 0 2-.9 2-2V5c0-1.1-.9-2-2-2zM9 17H7v-7h2v7zm4 0h-2V7h2v10zm4 0h-2v-4h2v4z\"/>\n",
              "    </g>\n",
              "</svg>\n",
              "  </button>\n",
              "\n",
              "<style>\n",
              "  .colab-df-quickchart {\n",
              "      --bg-color: #E8F0FE;\n",
              "      --fill-color: #1967D2;\n",
              "      --hover-bg-color: #E2EBFA;\n",
              "      --hover-fill-color: #174EA6;\n",
              "      --disabled-fill-color: #AAA;\n",
              "      --disabled-bg-color: #DDD;\n",
              "  }\n",
              "\n",
              "  [theme=dark] .colab-df-quickchart {\n",
              "      --bg-color: #3B4455;\n",
              "      --fill-color: #D2E3FC;\n",
              "      --hover-bg-color: #434B5C;\n",
              "      --hover-fill-color: #FFFFFF;\n",
              "      --disabled-bg-color: #3B4455;\n",
              "      --disabled-fill-color: #666;\n",
              "  }\n",
              "\n",
              "  .colab-df-quickchart {\n",
              "    background-color: var(--bg-color);\n",
              "    border: none;\n",
              "    border-radius: 50%;\n",
              "    cursor: pointer;\n",
              "    display: none;\n",
              "    fill: var(--fill-color);\n",
              "    height: 32px;\n",
              "    padding: 0;\n",
              "    width: 32px;\n",
              "  }\n",
              "\n",
              "  .colab-df-quickchart:hover {\n",
              "    background-color: var(--hover-bg-color);\n",
              "    box-shadow: 0 1px 2px rgba(60, 64, 67, 0.3), 0 1px 3px 1px rgba(60, 64, 67, 0.15);\n",
              "    fill: var(--button-hover-fill-color);\n",
              "  }\n",
              "\n",
              "  .colab-df-quickchart-complete:disabled,\n",
              "  .colab-df-quickchart-complete:disabled:hover {\n",
              "    background-color: var(--disabled-bg-color);\n",
              "    fill: var(--disabled-fill-color);\n",
              "    box-shadow: none;\n",
              "  }\n",
              "\n",
              "  .colab-df-spinner {\n",
              "    border: 2px solid var(--fill-color);\n",
              "    border-color: transparent;\n",
              "    border-bottom-color: var(--fill-color);\n",
              "    animation:\n",
              "      spin 1s steps(1) infinite;\n",
              "  }\n",
              "\n",
              "  @keyframes spin {\n",
              "    0% {\n",
              "      border-color: transparent;\n",
              "      border-bottom-color: var(--fill-color);\n",
              "      border-left-color: var(--fill-color);\n",
              "    }\n",
              "    20% {\n",
              "      border-color: transparent;\n",
              "      border-left-color: var(--fill-color);\n",
              "      border-top-color: var(--fill-color);\n",
              "    }\n",
              "    30% {\n",
              "      border-color: transparent;\n",
              "      border-left-color: var(--fill-color);\n",
              "      border-top-color: var(--fill-color);\n",
              "      border-right-color: var(--fill-color);\n",
              "    }\n",
              "    40% {\n",
              "      border-color: transparent;\n",
              "      border-right-color: var(--fill-color);\n",
              "      border-top-color: var(--fill-color);\n",
              "    }\n",
              "    60% {\n",
              "      border-color: transparent;\n",
              "      border-right-color: var(--fill-color);\n",
              "    }\n",
              "    80% {\n",
              "      border-color: transparent;\n",
              "      border-right-color: var(--fill-color);\n",
              "      border-bottom-color: var(--fill-color);\n",
              "    }\n",
              "    90% {\n",
              "      border-color: transparent;\n",
              "      border-bottom-color: var(--fill-color);\n",
              "    }\n",
              "  }\n",
              "</style>\n",
              "\n",
              "  <script>\n",
              "    async function quickchart(key) {\n",
              "      const quickchartButtonEl =\n",
              "        document.querySelector('#' + key + ' button');\n",
              "      quickchartButtonEl.disabled = true;  // To prevent multiple clicks.\n",
              "      quickchartButtonEl.classList.add('colab-df-spinner');\n",
              "      try {\n",
              "        const charts = await google.colab.kernel.invokeFunction(\n",
              "            'suggestCharts', [key], {});\n",
              "      } catch (error) {\n",
              "        console.error('Error during call to suggestCharts:', error);\n",
              "      }\n",
              "      quickchartButtonEl.classList.remove('colab-df-spinner');\n",
              "      quickchartButtonEl.classList.add('colab-df-quickchart-complete');\n",
              "    }\n",
              "    (() => {\n",
              "      let quickchartButtonEl =\n",
              "        document.querySelector('#df-0ee350b8-0fab-4f0d-94a8-6b9dc8ac3700 button');\n",
              "      quickchartButtonEl.style.display =\n",
              "        google.colab.kernel.accessAllowed ? 'block' : 'none';\n",
              "    })();\n",
              "  </script>\n",
              "</div>\n",
              "    </div>\n",
              "  </div>\n"
            ],
            "text/plain": [
              "   Age Attrition     BusinessTravel              Department  DistanceFromHome  \\\n",
              "0   41       Yes      Travel_Rarely                   Sales                 1   \n",
              "1   49        No  Travel_Frequently  Research & Development                 8   \n",
              "2   37       Yes      Travel_Rarely  Research & Development                 2   \n",
              "3   33        No  Travel_Frequently  Research & Development                 3   \n",
              "4   27        No      Travel_Rarely  Research & Development                 2   \n",
              "\n",
              "   Education EducationField  EnvironmentSatisfaction  HourlyRate  \\\n",
              "0          2  Life Sciences                        2          94   \n",
              "1          1  Life Sciences                        3          61   \n",
              "2          2          Other                        4          92   \n",
              "3          4  Life Sciences                        4          56   \n",
              "4          1        Medical                        1          40   \n",
              "\n",
              "   JobInvolvement  ...  PerformanceRating RelationshipSatisfaction  \\\n",
              "0               3  ...                  3                        1   \n",
              "1               2  ...                  4                        4   \n",
              "2               2  ...                  3                        2   \n",
              "3               3  ...                  3                        3   \n",
              "4               3  ...                  3                        4   \n",
              "\n",
              "   StockOptionLevel TotalWorkingYears  TrainingTimesLastYear WorkLifeBalance  \\\n",
              "0                 0                 8                      0               1   \n",
              "1                 1                10                      3               3   \n",
              "2                 0                 7                      3               3   \n",
              "3                 0                 8                      3               3   \n",
              "4                 1                 6                      3               3   \n",
              "\n",
              "   YearsAtCompany  YearsInCurrentRole  YearsSinceLastPromotion  \\\n",
              "0               6                   4                        0   \n",
              "1              10                   7                        1   \n",
              "2               0                   0                        0   \n",
              "3               8                   7                        3   \n",
              "4               2                   2                        2   \n",
              "\n",
              "   YearsWithCurrManager  \n",
              "0                     5  \n",
              "1                     7  \n",
              "2                     0  \n",
              "3                     0  \n",
              "4                     2  \n",
              "\n",
              "[5 rows x 27 columns]"
            ]
          },
          "execution_count": 1,
          "metadata": {},
          "output_type": "execute_result"
        }
      ],
      "source": [
        "# Import our dependencies\n",
        "from sklearn.model_selection import train_test_split\n",
        "from sklearn.preprocessing import StandardScaler\n",
        "import pandas as pd\n",
        "import numpy as np\n",
        "from tensorflow.keras.models import Model\n",
        "from tensorflow.keras import layers\n",
        "\n",
        "#  Import and read the attrition data\n",
        "attrition_df = pd.read_csv('https://static.bc-edx.com/ai/ail-v-1-0/m19/lms/datasets/attrition.csv')\n",
        "attrition_df.head()"
      ]
    },
    {
      "cell_type": "code",
      "execution_count": 2,
      "metadata": {
        "colab": {
          "base_uri": "https://localhost:8080/"
        },
        "id": "g22aQSY4Gc3Q",
        "outputId": "1f5c13c1-b981-4e40-a7ed-dd3fe6f1b81e"
      },
      "outputs": [
        {
          "data": {
            "text/plain": [
              "Age                         43\n",
              "Attrition                    2\n",
              "BusinessTravel               3\n",
              "Department                   3\n",
              "DistanceFromHome            29\n",
              "Education                    5\n",
              "EducationField               6\n",
              "EnvironmentSatisfaction      4\n",
              "HourlyRate                  71\n",
              "JobInvolvement               4\n",
              "JobLevel                     5\n",
              "JobRole                      9\n",
              "JobSatisfaction              4\n",
              "MaritalStatus                3\n",
              "NumCompaniesWorked          10\n",
              "OverTime                     2\n",
              "PercentSalaryHike           15\n",
              "PerformanceRating            2\n",
              "RelationshipSatisfaction     4\n",
              "StockOptionLevel             4\n",
              "TotalWorkingYears           40\n",
              "TrainingTimesLastYear        7\n",
              "WorkLifeBalance              4\n",
              "YearsAtCompany              37\n",
              "YearsInCurrentRole          19\n",
              "YearsSinceLastPromotion     16\n",
              "YearsWithCurrManager        18\n",
              "dtype: int64"
            ]
          },
          "execution_count": 2,
          "metadata": {},
          "output_type": "execute_result"
        }
      ],
      "source": [
        "# Determine the number of unique values in each column.\n",
        "attrition_df.nunique()"
      ]
    },
    {
      "cell_type": "code",
      "execution_count": 3,
      "metadata": {
        "id": "50vMgBEnJbfM"
      },
      "outputs": [],
      "source": [
        "# Create y_df with the Attrition and Department columns\n",
        "\n"
      ]
    },
    {
      "cell_type": "code",
      "execution_count": 4,
      "metadata": {
        "colab": {
          "base_uri": "https://localhost:8080/"
        },
        "id": "Virka0zLGc3R",
        "outputId": "dd5aee3a-9458-4ba6-e857-1b234de40915"
      },
      "outputs": [
        {
          "data": {
            "text/plain": [
              "Education                   int64\n",
              "Age                         int64\n",
              "DistanceFromHome            int64\n",
              "JobSatisfaction             int64\n",
              "OverTime                   object\n",
              "StockOptionLevel            int64\n",
              "WorkLifeBalance             int64\n",
              "YearsAtCompany              int64\n",
              "YearsSinceLastPromotion     int64\n",
              "NumCompaniesWorked          int64\n",
              "dtype: object"
            ]
          },
          "execution_count": 4,
          "metadata": {},
          "output_type": "execute_result"
        }
      ],
      "source": [
        "# Create a list of at least 10 column names to use as X data\n",
        "\n",
        "\n",
        "\n",
        "# Create X_df using your selected columns\n",
        "\n",
        "\n",
        "# Show the data types for X_df\n",
        "\n"
      ]
    },
    {
      "cell_type": "code",
      "execution_count": 5,
      "metadata": {
        "id": "KaJfdOGUMHMR"
      },
      "outputs": [],
      "source": [
        "# Split the data into training and testing sets\n",
        "from sklearn.model_selection import train_test_split\n",
        "\n"
      ]
    },
    {
      "cell_type": "code",
      "execution_count": 6,
      "metadata": {
        "colab": {
          "base_uri": "https://localhost:8080/"
        },
        "id": "NYubUJqiLCSp",
        "outputId": "53f31721-571c-4c94-d13e-25a715749593"
      },
      "outputs": [
        {
          "data": {
            "text/plain": [
              "No     788\n",
              "Yes    314\n",
              "Name: OverTime, dtype: int64"
            ]
          },
          "execution_count": 6,
          "metadata": {},
          "output_type": "execute_result"
        }
      ],
      "source": [
        "# Convert your X data to numeric data types however you see fit\n",
        "# Add new code cells as necessary\n"
      ]
    },
    {
      "cell_type": "code",
      "execution_count": 8,
      "metadata": {
        "id": "EWA-aIA5Gc3T"
      },
      "outputs": [],
      "source": [
        "# Create a StandardScaler\n",
        "\n",
        "\n",
        "# Fit the StandardScaler to the training data\n",
        "\n",
        "\n",
        "# Scale the training and testing data\n",
        "\n"
      ]
    },
    {
      "cell_type": "code",
      "execution_count": 10,
      "metadata": {
        "colab": {
          "base_uri": "https://localhost:8080/"
        },
        "id": "-z0Mky8vQSz4",
        "outputId": "debefc85-c20b-48f5-f4d9-91eadd65d36a"
      },
      "outputs": [
        {
          "data": {
            "text/plain": [
              "array([[0., 1., 0.],\n",
              "       [0., 1., 0.],\n",
              "       [0., 1., 0.],\n",
              "       ...,\n",
              "       [0., 1., 0.],\n",
              "       [0., 0., 1.],\n",
              "       [0., 1., 0.]])"
            ]
          },
          "execution_count": 10,
          "metadata": {},
          "output_type": "execute_result"
        }
      ],
      "source": [
        "# Create a OneHotEncoder for the Department column\n",
        "\n",
        "\n",
        "# Fit the encoder to the training data\n",
        "\n",
        "\n",
        "# Create two new variables by applying the encoder\n",
        "# to the training and testing data\n",
        "\n",
        "\n"
      ]
    },
    {
      "cell_type": "code",
      "execution_count": 11,
      "metadata": {
        "colab": {
          "base_uri": "https://localhost:8080/"
        },
        "id": "-G4DSpvFRrk4",
        "outputId": "9842e948-8a55-4b80-8fac-f96714e85589"
      },
      "outputs": [
        {
          "data": {
            "text/plain": [
              "array([[1., 0.],\n",
              "       [0., 1.],\n",
              "       [1., 0.],\n",
              "       ...,\n",
              "       [1., 0.],\n",
              "       [1., 0.],\n",
              "       [1., 0.]])"
            ]
          },
          "execution_count": 11,
          "metadata": {},
          "output_type": "execute_result"
        }
      ],
      "source": [
        "# Create a OneHotEncoder for the Attrition column\n",
        "\n",
        "\n",
        "# Fit the encoder to the training data\n",
        "\n",
        "\n",
        "# Create two new variables by applying the encoder\n",
        "# to the training and testing data\n",
        "\n"
      ]
    },
    {
      "cell_type": "markdown",
      "metadata": {
        "id": "ykNmu_WWGc3T"
      },
      "source": [
        "## Create, Compile, and Train the Model"
      ]
    },
    {
      "cell_type": "code",
      "execution_count": 12,
      "metadata": {
        "id": "WUptZqmSGc3T"
      },
      "outputs": [],
      "source": [
        "# Find the number of columns in the X training data\n",
        "\n",
        "\n",
        "# Create the input layer\n",
        "\n",
        "\n",
        "# Create at least two shared layers\n"
      ]
    },
    {
      "cell_type": "code",
      "execution_count": 13,
      "metadata": {
        "id": "JukjTm2yTEqd"
      },
      "outputs": [],
      "source": [
        "# Create a branch for Department\n",
        "# with a hidden layer and an output layer\n",
        "\n",
        "# Create the hidden layer\n",
        "\n",
        "\n",
        "# Create the output layer\n",
        "\n"
      ]
    },
    {
      "cell_type": "code",
      "execution_count": 14,
      "metadata": {
        "id": "9OqhUiOJUBkR"
      },
      "outputs": [],
      "source": [
        "# Create a branch for Attrition\n",
        "# with a hidden layer and an output layer\n",
        "\n",
        "# Create the hidden layer\n",
        "\n",
        "\n",
        "# Create the output layer\n",
        "\n"
      ]
    },
    {
      "cell_type": "code",
      "execution_count": 15,
      "metadata": {
        "colab": {
          "base_uri": "https://localhost:8080/"
        },
        "id": "twmuejdxGc3T",
        "outputId": "25096308-b68b-42e4-e4ea-ae82e97c435a"
      },
      "outputs": [
        {
          "name": "stdout",
          "output_type": "stream",
          "text": [
            "Model: \"model\"\n",
            "__________________________________________________________________________________________________\n",
            " Layer (type)                Output Shape                 Param #   Connected to                  \n",
            "==================================================================================================\n",
            " input (InputLayer)          [(None, 10)]                 0         []                            \n",
            "                                                                                                  \n",
            " shared1 (Dense)             (None, 64)                   704       ['input[0][0]']               \n",
            "                                                                                                  \n",
            " shared2 (Dense)             (None, 128)                  8320      ['shared1[0][0]']             \n",
            "                                                                                                  \n",
            " department_hidden (Dense)   (None, 32)                   4128      ['shared2[0][0]']             \n",
            "                                                                                                  \n",
            " attrition_hidden (Dense)    (None, 32)                   4128      ['shared2[0][0]']             \n",
            "                                                                                                  \n",
            " department_output (Dense)   (None, 3)                    99        ['department_hidden[0][0]']   \n",
            "                                                                                                  \n",
            " attrition_output (Dense)    (None, 2)                    66        ['attrition_hidden[0][0]']    \n",
            "                                                                                                  \n",
            "==================================================================================================\n",
            "Total params: 17445 (68.14 KB)\n",
            "Trainable params: 17445 (68.14 KB)\n",
            "Non-trainable params: 0 (0.00 Byte)\n",
            "__________________________________________________________________________________________________\n"
          ]
        }
      ],
      "source": [
        "# Create the model\n",
        "\n",
        "\n",
        "# Compile the model\n",
        "\n",
        "\n",
        "# Summarize the model\n"
      ]
    },
    {
      "cell_type": "code",
      "execution_count": 16,
      "metadata": {
        "colab": {
          "base_uri": "https://localhost:8080/"
        },
        "id": "c8oGy0dpGc3U",
        "outputId": "cc667d43-28cf-42d4-d719-c2bc02888d30"
      },
      "outputs": [
        {
          "name": "stdout",
          "output_type": "stream",
          "text": [
            "Epoch 1/100\n",
            "35/35 [==============================] - 14s 25ms/step - loss: 1.4162 - department_output_loss: 0.8374 - attrition_output_loss: 0.5787 - department_output_accuracy: 0.6316 - attrition_output_accuracy: 0.7024\n",
            "Epoch 2/100\n",
            "35/35 [==============================] - 1s 27ms/step - loss: 1.2070 - department_output_loss: 0.7661 - attrition_output_loss: 0.4408 - department_output_accuracy: 0.6570 - attrition_output_accuracy: 0.8403\n",
            "Epoch 3/100\n",
            "35/35 [==============================] - 0s 13ms/step - loss: 1.1520 - department_output_loss: 0.7539 - attrition_output_loss: 0.3981 - department_output_accuracy: 0.6570 - attrition_output_accuracy: 0.8403\n",
            "Epoch 4/100\n",
            "35/35 [==============================] - 0s 14ms/step - loss: 1.1231 - department_output_loss: 0.7452 - attrition_output_loss: 0.3779 - department_output_accuracy: 0.6588 - attrition_output_accuracy: 0.8475\n",
            "Epoch 5/100\n",
            "35/35 [==============================] - 0s 12ms/step - loss: 1.1031 - department_output_loss: 0.7342 - attrition_output_loss: 0.3689 - department_output_accuracy: 0.6624 - attrition_output_accuracy: 0.8503\n",
            "Epoch 6/100\n",
            "35/35 [==============================] - 0s 5ms/step - loss: 1.0842 - department_output_loss: 0.7255 - attrition_output_loss: 0.3588 - department_output_accuracy: 0.6615 - attrition_output_accuracy: 0.8521\n",
            "Epoch 7/100\n",
            "35/35 [==============================] - 0s 5ms/step - loss: 1.0715 - department_output_loss: 0.7191 - attrition_output_loss: 0.3523 - department_output_accuracy: 0.6661 - attrition_output_accuracy: 0.8603\n",
            "Epoch 8/100\n",
            "35/35 [==============================] - 0s 6ms/step - loss: 1.0551 - department_output_loss: 0.7094 - attrition_output_loss: 0.3457 - department_output_accuracy: 0.6715 - attrition_output_accuracy: 0.8612\n",
            "Epoch 9/100\n",
            "35/35 [==============================] - 0s 5ms/step - loss: 1.0385 - department_output_loss: 0.6992 - attrition_output_loss: 0.3393 - department_output_accuracy: 0.6815 - attrition_output_accuracy: 0.8639\n",
            "Epoch 10/100\n",
            "35/35 [==============================] - 0s 5ms/step - loss: 1.0270 - department_output_loss: 0.6892 - attrition_output_loss: 0.3378 - department_output_accuracy: 0.6770 - attrition_output_accuracy: 0.8630\n",
            "Epoch 11/100\n",
            "35/35 [==============================] - 0s 5ms/step - loss: 1.0185 - department_output_loss: 0.6883 - attrition_output_loss: 0.3302 - department_output_accuracy: 0.6842 - attrition_output_accuracy: 0.8693\n",
            "Epoch 12/100\n",
            "35/35 [==============================] - 0s 5ms/step - loss: 0.9959 - department_output_loss: 0.6719 - attrition_output_loss: 0.3240 - department_output_accuracy: 0.6942 - attrition_output_accuracy: 0.8739\n",
            "Epoch 13/100\n",
            "35/35 [==============================] - 0s 6ms/step - loss: 0.9802 - department_output_loss: 0.6588 - attrition_output_loss: 0.3214 - department_output_accuracy: 0.7024 - attrition_output_accuracy: 0.8739\n",
            "Epoch 14/100\n",
            "35/35 [==============================] - 0s 5ms/step - loss: 0.9633 - department_output_loss: 0.6492 - attrition_output_loss: 0.3141 - department_output_accuracy: 0.7005 - attrition_output_accuracy: 0.8757\n",
            "Epoch 15/100\n",
            "35/35 [==============================] - 0s 5ms/step - loss: 0.9465 - department_output_loss: 0.6382 - attrition_output_loss: 0.3083 - department_output_accuracy: 0.7151 - attrition_output_accuracy: 0.8739\n",
            "Epoch 16/100\n",
            "35/35 [==============================] - 0s 5ms/step - loss: 0.9312 - department_output_loss: 0.6288 - attrition_output_loss: 0.3024 - department_output_accuracy: 0.7214 - attrition_output_accuracy: 0.8802\n",
            "Epoch 17/100\n",
            "35/35 [==============================] - 0s 5ms/step - loss: 0.9070 - department_output_loss: 0.6104 - attrition_output_loss: 0.2966 - department_output_accuracy: 0.7214 - attrition_output_accuracy: 0.8838\n",
            "Epoch 18/100\n",
            "35/35 [==============================] - 0s 5ms/step - loss: 0.8969 - department_output_loss: 0.6043 - attrition_output_loss: 0.2926 - department_output_accuracy: 0.7260 - attrition_output_accuracy: 0.8875\n",
            "Epoch 19/100\n",
            "35/35 [==============================] - 0s 6ms/step - loss: 0.8688 - department_output_loss: 0.5845 - attrition_output_loss: 0.2843 - department_output_accuracy: 0.7450 - attrition_output_accuracy: 0.8884\n",
            "Epoch 20/100\n",
            "35/35 [==============================] - 0s 5ms/step - loss: 0.8510 - department_output_loss: 0.5678 - attrition_output_loss: 0.2832 - department_output_accuracy: 0.7477 - attrition_output_accuracy: 0.8929\n",
            "Epoch 21/100\n",
            "35/35 [==============================] - 0s 5ms/step - loss: 0.8308 - department_output_loss: 0.5543 - attrition_output_loss: 0.2765 - department_output_accuracy: 0.7604 - attrition_output_accuracy: 0.8902\n",
            "Epoch 22/100\n",
            "35/35 [==============================] - 0s 5ms/step - loss: 0.8196 - department_output_loss: 0.5512 - attrition_output_loss: 0.2684 - department_output_accuracy: 0.7677 - attrition_output_accuracy: 0.8929\n",
            "Epoch 23/100\n",
            "35/35 [==============================] - 0s 4ms/step - loss: 0.8175 - department_output_loss: 0.5483 - attrition_output_loss: 0.2692 - department_output_accuracy: 0.7659 - attrition_output_accuracy: 0.8911\n",
            "Epoch 24/100\n",
            "35/35 [==============================] - 0s 3ms/step - loss: 0.7780 - department_output_loss: 0.5152 - attrition_output_loss: 0.2628 - department_output_accuracy: 0.7868 - attrition_output_accuracy: 0.8956\n",
            "Epoch 25/100\n",
            "35/35 [==============================] - 0s 3ms/step - loss: 0.7622 - department_output_loss: 0.5018 - attrition_output_loss: 0.2604 - department_output_accuracy: 0.7958 - attrition_output_accuracy: 0.9038\n",
            "Epoch 26/100\n",
            "35/35 [==============================] - 0s 3ms/step - loss: 0.7377 - department_output_loss: 0.4864 - attrition_output_loss: 0.2512 - department_output_accuracy: 0.8094 - attrition_output_accuracy: 0.9011\n",
            "Epoch 27/100\n",
            "35/35 [==============================] - 0s 3ms/step - loss: 0.7109 - department_output_loss: 0.4694 - attrition_output_loss: 0.2415 - department_output_accuracy: 0.8085 - attrition_output_accuracy: 0.8984\n",
            "Epoch 28/100\n",
            "35/35 [==============================] - 0s 3ms/step - loss: 0.7000 - department_output_loss: 0.4604 - attrition_output_loss: 0.2397 - department_output_accuracy: 0.8113 - attrition_output_accuracy: 0.8993\n",
            "Epoch 29/100\n",
            "35/35 [==============================] - 0s 3ms/step - loss: 0.6900 - department_output_loss: 0.4524 - attrition_output_loss: 0.2376 - department_output_accuracy: 0.8185 - attrition_output_accuracy: 0.9083\n",
            "Epoch 30/100\n",
            "35/35 [==============================] - 0s 3ms/step - loss: 0.6690 - department_output_loss: 0.4356 - attrition_output_loss: 0.2334 - department_output_accuracy: 0.8376 - attrition_output_accuracy: 0.9102\n",
            "Epoch 31/100\n",
            "35/35 [==============================] - 0s 3ms/step - loss: 0.6347 - department_output_loss: 0.4123 - attrition_output_loss: 0.2224 - department_output_accuracy: 0.8448 - attrition_output_accuracy: 0.9147\n",
            "Epoch 32/100\n",
            "35/35 [==============================] - 0s 3ms/step - loss: 0.6188 - department_output_loss: 0.3995 - attrition_output_loss: 0.2193 - department_output_accuracy: 0.8512 - attrition_output_accuracy: 0.9165\n",
            "Epoch 33/100\n",
            "35/35 [==============================] - 0s 3ms/step - loss: 0.5911 - department_output_loss: 0.3805 - attrition_output_loss: 0.2107 - department_output_accuracy: 0.8503 - attrition_output_accuracy: 0.9120\n",
            "Epoch 34/100\n",
            "35/35 [==============================] - 0s 4ms/step - loss: 0.5744 - department_output_loss: 0.3682 - attrition_output_loss: 0.2061 - department_output_accuracy: 0.8675 - attrition_output_accuracy: 0.9256\n",
            "Epoch 35/100\n",
            "35/35 [==============================] - 0s 3ms/step - loss: 0.5730 - department_output_loss: 0.3692 - attrition_output_loss: 0.2038 - department_output_accuracy: 0.8521 - attrition_output_accuracy: 0.9211\n",
            "Epoch 36/100\n",
            "35/35 [==============================] - 0s 3ms/step - loss: 0.5379 - department_output_loss: 0.3396 - attrition_output_loss: 0.1983 - department_output_accuracy: 0.8739 - attrition_output_accuracy: 0.9201\n",
            "Epoch 37/100\n",
            "35/35 [==============================] - 0s 3ms/step - loss: 0.5325 - department_output_loss: 0.3405 - attrition_output_loss: 0.1920 - department_output_accuracy: 0.8684 - attrition_output_accuracy: 0.9256\n",
            "Epoch 38/100\n",
            "35/35 [==============================] - 0s 3ms/step - loss: 0.5137 - department_output_loss: 0.3223 - attrition_output_loss: 0.1915 - department_output_accuracy: 0.8911 - attrition_output_accuracy: 0.9347\n",
            "Epoch 39/100\n",
            "35/35 [==============================] - 0s 3ms/step - loss: 0.4867 - department_output_loss: 0.3031 - attrition_output_loss: 0.1836 - department_output_accuracy: 0.8911 - attrition_output_accuracy: 0.9301\n",
            "Epoch 40/100\n",
            "35/35 [==============================] - 0s 3ms/step - loss: 0.4700 - department_output_loss: 0.2891 - attrition_output_loss: 0.1809 - department_output_accuracy: 0.9047 - attrition_output_accuracy: 0.9365\n",
            "Epoch 41/100\n",
            "35/35 [==============================] - 0s 3ms/step - loss: 0.4600 - department_output_loss: 0.2839 - attrition_output_loss: 0.1760 - department_output_accuracy: 0.9002 - attrition_output_accuracy: 0.9356\n",
            "Epoch 42/100\n",
            "35/35 [==============================] - 0s 3ms/step - loss: 0.4401 - department_output_loss: 0.2697 - attrition_output_loss: 0.1704 - department_output_accuracy: 0.9129 - attrition_output_accuracy: 0.9374\n",
            "Epoch 43/100\n",
            "35/35 [==============================] - 0s 3ms/step - loss: 0.4406 - department_output_loss: 0.2818 - attrition_output_loss: 0.1588 - department_output_accuracy: 0.9002 - attrition_output_accuracy: 0.9437\n",
            "Epoch 44/100\n",
            "35/35 [==============================] - 0s 3ms/step - loss: 0.4187 - department_output_loss: 0.2589 - attrition_output_loss: 0.1598 - department_output_accuracy: 0.9093 - attrition_output_accuracy: 0.9428\n",
            "Epoch 45/100\n",
            "35/35 [==============================] - 0s 4ms/step - loss: 0.3893 - department_output_loss: 0.2384 - attrition_output_loss: 0.1509 - department_output_accuracy: 0.9292 - attrition_output_accuracy: 0.9456\n",
            "Epoch 46/100\n",
            "35/35 [==============================] - 0s 3ms/step - loss: 0.3700 - department_output_loss: 0.2179 - attrition_output_loss: 0.1520 - department_output_accuracy: 0.9347 - attrition_output_accuracy: 0.9456\n",
            "Epoch 47/100\n",
            "35/35 [==============================] - 0s 4ms/step - loss: 0.3591 - department_output_loss: 0.2150 - attrition_output_loss: 0.1441 - department_output_accuracy: 0.9356 - attrition_output_accuracy: 0.9510\n",
            "Epoch 48/100\n",
            "35/35 [==============================] - 0s 3ms/step - loss: 0.3415 - department_output_loss: 0.2007 - attrition_output_loss: 0.1408 - department_output_accuracy: 0.9437 - attrition_output_accuracy: 0.9583\n",
            "Epoch 49/100\n",
            "35/35 [==============================] - 0s 3ms/step - loss: 0.3322 - department_output_loss: 0.2012 - attrition_output_loss: 0.1309 - department_output_accuracy: 0.9356 - attrition_output_accuracy: 0.9555\n",
            "Epoch 50/100\n",
            "35/35 [==============================] - 0s 3ms/step - loss: 0.3172 - department_output_loss: 0.1862 - attrition_output_loss: 0.1310 - department_output_accuracy: 0.9410 - attrition_output_accuracy: 0.9601\n",
            "Epoch 51/100\n",
            "35/35 [==============================] - 0s 3ms/step - loss: 0.3008 - department_output_loss: 0.1766 - attrition_output_loss: 0.1242 - department_output_accuracy: 0.9456 - attrition_output_accuracy: 0.9574\n",
            "Epoch 52/100\n",
            "35/35 [==============================] - 0s 3ms/step - loss: 0.3012 - department_output_loss: 0.1787 - attrition_output_loss: 0.1225 - department_output_accuracy: 0.9419 - attrition_output_accuracy: 0.9619\n",
            "Epoch 53/100\n",
            "35/35 [==============================] - 0s 3ms/step - loss: 0.2807 - department_output_loss: 0.1602 - attrition_output_loss: 0.1205 - department_output_accuracy: 0.9601 - attrition_output_accuracy: 0.9619\n",
            "Epoch 54/100\n",
            "35/35 [==============================] - 0s 3ms/step - loss: 0.3105 - department_output_loss: 0.1913 - attrition_output_loss: 0.1192 - department_output_accuracy: 0.9310 - attrition_output_accuracy: 0.9555\n",
            "Epoch 55/100\n",
            "35/35 [==============================] - 0s 3ms/step - loss: 0.2752 - department_output_loss: 0.1635 - attrition_output_loss: 0.1117 - department_output_accuracy: 0.9564 - attrition_output_accuracy: 0.9655\n",
            "Epoch 56/100\n",
            "35/35 [==============================] - 0s 3ms/step - loss: 0.2584 - department_output_loss: 0.1499 - attrition_output_loss: 0.1085 - department_output_accuracy: 0.9610 - attrition_output_accuracy: 0.9664\n",
            "Epoch 57/100\n",
            "35/35 [==============================] - 0s 3ms/step - loss: 0.2533 - department_output_loss: 0.1490 - attrition_output_loss: 0.1042 - department_output_accuracy: 0.9519 - attrition_output_accuracy: 0.9701\n",
            "Epoch 58/100\n",
            "35/35 [==============================] - 0s 3ms/step - loss: 0.2484 - department_output_loss: 0.1489 - attrition_output_loss: 0.0995 - department_output_accuracy: 0.9592 - attrition_output_accuracy: 0.9691\n",
            "Epoch 59/100\n",
            "35/35 [==============================] - 0s 3ms/step - loss: 0.2327 - department_output_loss: 0.1347 - attrition_output_loss: 0.0979 - department_output_accuracy: 0.9701 - attrition_output_accuracy: 0.9664\n",
            "Epoch 60/100\n",
            "35/35 [==============================] - 0s 4ms/step - loss: 0.2143 - department_output_loss: 0.1168 - attrition_output_loss: 0.0975 - department_output_accuracy: 0.9719 - attrition_output_accuracy: 0.9628\n",
            "Epoch 61/100\n",
            "35/35 [==============================] - 0s 3ms/step - loss: 0.2091 - department_output_loss: 0.1129 - attrition_output_loss: 0.0962 - department_output_accuracy: 0.9764 - attrition_output_accuracy: 0.9691\n",
            "Epoch 62/100\n",
            "35/35 [==============================] - 0s 3ms/step - loss: 0.1945 - department_output_loss: 0.1076 - attrition_output_loss: 0.0869 - department_output_accuracy: 0.9809 - attrition_output_accuracy: 0.9764\n",
            "Epoch 63/100\n",
            "35/35 [==============================] - 0s 3ms/step - loss: 0.1934 - department_output_loss: 0.1060 - attrition_output_loss: 0.0874 - department_output_accuracy: 0.9791 - attrition_output_accuracy: 0.9719\n",
            "Epoch 64/100\n",
            "35/35 [==============================] - 0s 3ms/step - loss: 0.1695 - department_output_loss: 0.0937 - attrition_output_loss: 0.0758 - department_output_accuracy: 0.9837 - attrition_output_accuracy: 0.9773\n",
            "Epoch 65/100\n",
            "35/35 [==============================] - 0s 3ms/step - loss: 0.1766 - department_output_loss: 0.0997 - attrition_output_loss: 0.0769 - department_output_accuracy: 0.9809 - attrition_output_accuracy: 0.9773\n",
            "Epoch 66/100\n",
            "35/35 [==============================] - 0s 3ms/step - loss: 0.1654 - department_output_loss: 0.0936 - attrition_output_loss: 0.0718 - department_output_accuracy: 0.9791 - attrition_output_accuracy: 0.9819\n",
            "Epoch 67/100\n",
            "35/35 [==============================] - 0s 3ms/step - loss: 0.1617 - department_output_loss: 0.0845 - attrition_output_loss: 0.0771 - department_output_accuracy: 0.9873 - attrition_output_accuracy: 0.9746\n",
            "Epoch 68/100\n",
            "35/35 [==============================] - 0s 3ms/step - loss: 0.1587 - department_output_loss: 0.0816 - attrition_output_loss: 0.0771 - department_output_accuracy: 0.9873 - attrition_output_accuracy: 0.9737\n",
            "Epoch 69/100\n",
            "35/35 [==============================] - 0s 4ms/step - loss: 0.1466 - department_output_loss: 0.0784 - attrition_output_loss: 0.0682 - department_output_accuracy: 0.9909 - attrition_output_accuracy: 0.9800\n",
            "Epoch 70/100\n",
            "35/35 [==============================] - 0s 3ms/step - loss: 0.1365 - department_output_loss: 0.0726 - attrition_output_loss: 0.0639 - department_output_accuracy: 0.9882 - attrition_output_accuracy: 0.9809\n",
            "Epoch 71/100\n",
            "35/35 [==============================] - 0s 3ms/step - loss: 0.1338 - department_output_loss: 0.0745 - attrition_output_loss: 0.0593 - department_output_accuracy: 0.9855 - attrition_output_accuracy: 0.9828\n",
            "Epoch 72/100\n",
            "35/35 [==============================] - 0s 3ms/step - loss: 0.1338 - department_output_loss: 0.0736 - attrition_output_loss: 0.0602 - department_output_accuracy: 0.9864 - attrition_output_accuracy: 0.9837\n",
            "Epoch 73/100\n",
            "35/35 [==============================] - 0s 3ms/step - loss: 0.1218 - department_output_loss: 0.0707 - attrition_output_loss: 0.0511 - department_output_accuracy: 0.9855 - attrition_output_accuracy: 0.9864\n",
            "Epoch 74/100\n",
            "35/35 [==============================] - 0s 3ms/step - loss: 0.1283 - department_output_loss: 0.0764 - attrition_output_loss: 0.0518 - department_output_accuracy: 0.9819 - attrition_output_accuracy: 0.9900\n",
            "Epoch 75/100\n",
            "35/35 [==============================] - 0s 3ms/step - loss: 0.1272 - department_output_loss: 0.0711 - attrition_output_loss: 0.0561 - department_output_accuracy: 0.9900 - attrition_output_accuracy: 0.9846\n",
            "Epoch 76/100\n",
            "35/35 [==============================] - 0s 3ms/step - loss: 0.1253 - department_output_loss: 0.0747 - attrition_output_loss: 0.0506 - department_output_accuracy: 0.9873 - attrition_output_accuracy: 0.9882\n",
            "Epoch 77/100\n",
            "35/35 [==============================] - 0s 4ms/step - loss: 0.1225 - department_output_loss: 0.0706 - attrition_output_loss: 0.0519 - department_output_accuracy: 0.9828 - attrition_output_accuracy: 0.9855\n",
            "Epoch 78/100\n",
            "35/35 [==============================] - 0s 3ms/step - loss: 0.0984 - department_output_loss: 0.0558 - attrition_output_loss: 0.0426 - department_output_accuracy: 0.9909 - attrition_output_accuracy: 0.9936\n",
            "Epoch 79/100\n",
            "35/35 [==============================] - 0s 3ms/step - loss: 0.0941 - department_output_loss: 0.0521 - attrition_output_loss: 0.0420 - department_output_accuracy: 0.9927 - attrition_output_accuracy: 0.9955\n",
            "Epoch 80/100\n",
            "35/35 [==============================] - 0s 3ms/step - loss: 0.1030 - department_output_loss: 0.0504 - attrition_output_loss: 0.0526 - department_output_accuracy: 0.9918 - attrition_output_accuracy: 0.9828\n",
            "Epoch 81/100\n",
            "35/35 [==============================] - 0s 3ms/step - loss: 0.0934 - department_output_loss: 0.0486 - attrition_output_loss: 0.0448 - department_output_accuracy: 0.9964 - attrition_output_accuracy: 0.9909\n",
            "Epoch 82/100\n",
            "35/35 [==============================] - 0s 3ms/step - loss: 0.0801 - department_output_loss: 0.0437 - attrition_output_loss: 0.0363 - department_output_accuracy: 0.9927 - attrition_output_accuracy: 0.9927\n",
            "Epoch 83/100\n",
            "35/35 [==============================] - 0s 3ms/step - loss: 0.0763 - department_output_loss: 0.0408 - attrition_output_loss: 0.0354 - department_output_accuracy: 0.9946 - attrition_output_accuracy: 0.9946\n",
            "Epoch 84/100\n",
            "35/35 [==============================] - 0s 3ms/step - loss: 0.0767 - department_output_loss: 0.0371 - attrition_output_loss: 0.0396 - department_output_accuracy: 0.9964 - attrition_output_accuracy: 0.9927\n",
            "Epoch 85/100\n",
            "35/35 [==============================] - 0s 3ms/step - loss: 0.0718 - department_output_loss: 0.0393 - attrition_output_loss: 0.0325 - department_output_accuracy: 0.9936 - attrition_output_accuracy: 0.9946\n",
            "Epoch 86/100\n",
            "35/35 [==============================] - 0s 4ms/step - loss: 0.0764 - department_output_loss: 0.0455 - attrition_output_loss: 0.0309 - department_output_accuracy: 0.9918 - attrition_output_accuracy: 0.9955\n",
            "Epoch 87/100\n",
            "35/35 [==============================] - 0s 3ms/step - loss: 0.0834 - department_output_loss: 0.0485 - attrition_output_loss: 0.0350 - department_output_accuracy: 0.9918 - attrition_output_accuracy: 0.9927\n",
            "Epoch 88/100\n",
            "35/35 [==============================] - 0s 3ms/step - loss: 0.0775 - department_output_loss: 0.0464 - attrition_output_loss: 0.0310 - department_output_accuracy: 0.9946 - attrition_output_accuracy: 0.9946\n",
            "Epoch 89/100\n",
            "35/35 [==============================] - 0s 3ms/step - loss: 0.0720 - department_output_loss: 0.0389 - attrition_output_loss: 0.0331 - department_output_accuracy: 0.9927 - attrition_output_accuracy: 0.9946\n",
            "Epoch 90/100\n",
            "35/35 [==============================] - 0s 3ms/step - loss: 0.0629 - department_output_loss: 0.0369 - attrition_output_loss: 0.0260 - department_output_accuracy: 0.9955 - attrition_output_accuracy: 0.9955\n",
            "Epoch 91/100\n",
            "35/35 [==============================] - 0s 3ms/step - loss: 0.0618 - department_output_loss: 0.0313 - attrition_output_loss: 0.0305 - department_output_accuracy: 0.9964 - attrition_output_accuracy: 0.9946\n",
            "Epoch 92/100\n",
            "35/35 [==============================] - 0s 3ms/step - loss: 0.0565 - department_output_loss: 0.0299 - attrition_output_loss: 0.0265 - department_output_accuracy: 0.9973 - attrition_output_accuracy: 0.9946\n",
            "Epoch 93/100\n",
            "35/35 [==============================] - 0s 3ms/step - loss: 0.0555 - department_output_loss: 0.0298 - attrition_output_loss: 0.0257 - department_output_accuracy: 0.9964 - attrition_output_accuracy: 0.9936\n",
            "Epoch 94/100\n",
            "35/35 [==============================] - 0s 3ms/step - loss: 0.0511 - department_output_loss: 0.0273 - attrition_output_loss: 0.0238 - department_output_accuracy: 0.9964 - attrition_output_accuracy: 0.9955\n",
            "Epoch 95/100\n",
            "35/35 [==============================] - 0s 4ms/step - loss: 0.0541 - department_output_loss: 0.0252 - attrition_output_loss: 0.0288 - department_output_accuracy: 0.9973 - attrition_output_accuracy: 0.9955\n",
            "Epoch 96/100\n",
            "35/35 [==============================] - 0s 3ms/step - loss: 0.0562 - department_output_loss: 0.0299 - attrition_output_loss: 0.0263 - department_output_accuracy: 0.9964 - attrition_output_accuracy: 0.9936\n",
            "Epoch 97/100\n",
            "35/35 [==============================] - 0s 3ms/step - loss: 0.0450 - department_output_loss: 0.0231 - attrition_output_loss: 0.0218 - department_output_accuracy: 0.9973 - attrition_output_accuracy: 0.9946\n",
            "Epoch 98/100\n",
            "35/35 [==============================] - 0s 3ms/step - loss: 0.0446 - department_output_loss: 0.0226 - attrition_output_loss: 0.0220 - department_output_accuracy: 0.9973 - attrition_output_accuracy: 0.9936\n",
            "Epoch 99/100\n",
            "35/35 [==============================] - 0s 3ms/step - loss: 0.0564 - department_output_loss: 0.0254 - attrition_output_loss: 0.0309 - department_output_accuracy: 0.9955 - attrition_output_accuracy: 0.9918\n",
            "Epoch 100/100\n",
            "35/35 [==============================] - 0s 3ms/step - loss: 0.0607 - department_output_loss: 0.0368 - attrition_output_loss: 0.0239 - department_output_accuracy: 0.9891 - attrition_output_accuracy: 0.9927\n"
          ]
        }
      ],
      "source": [
        "# Train the model\n",
        "\n"
      ]
    },
    {
      "cell_type": "code",
      "execution_count": 17,
      "metadata": {
        "colab": {
          "base_uri": "https://localhost:8080/"
        },
        "id": "VsMoaQlgGc3U",
        "outputId": "1bd4e601-e964-4abc-ad83-aeecf6b696be"
      },
      "outputs": [
        {
          "name": "stdout",
          "output_type": "stream",
          "text": [
            "12/12 [==============================] - 0s 3ms/step - loss: 4.1624 - department_output_loss: 3.1143 - attrition_output_loss: 1.0481 - department_output_accuracy: 0.5272 - attrition_output_accuracy: 0.8261\n"
          ]
        },
        {
          "data": {
            "text/plain": [
              "[4.162380218505859,\n",
              " 3.114327907562256,\n",
              " 1.0480519533157349,\n",
              " 0.5271739363670349,\n",
              " 0.8260869383811951]"
            ]
          },
          "execution_count": 17,
          "metadata": {},
          "output_type": "execute_result"
        }
      ],
      "source": [
        "# Evaluate the model with the testing data\n"
      ]
    },
    {
      "cell_type": "code",
      "execution_count": 18,
      "metadata": {
        "colab": {
          "base_uri": "https://localhost:8080/"
        },
        "id": "ZlCtlHi0Vt54",
        "outputId": "bc21ef3e-80c2-4b38-9c29-79515bc23dec"
      },
      "outputs": [
        {
          "name": "stdout",
          "output_type": "stream",
          "text": [
            "Department predictions accuracy: 0.5271739363670349\n",
            "Attrition predictions accuracy: 0.8260869383811951\n"
          ]
        }
      ],
      "source": [
        "# Print the accuracy for both department and attrition\n"
      ]
    },
    {
      "cell_type": "markdown",
      "metadata": {
        "id": "eGSyfsZfWOQM"
      },
      "source": [
        "# Summary\n",
        "\n",
        "In the provided space below, briefly answer the following questions.\n",
        "\n",
        "1. Is accuracy the best metric to use on this data? Why or why not?\n",
        "\n",
        "2. What activation functions did you choose for your output layers, and why?\n",
        "\n",
        "3. Can you name a few ways that this model might be improved?"
      ]
    },
    {
      "cell_type": "markdown",
      "metadata": {
        "id": "pi9SLpFnWvbF"
      },
      "source": [
        "YOUR ANSWERS HERE\n",
        "\n",
        "1. \n",
        "2. \n",
        "3. "
      ]
    },
    {
      "cell_type": "markdown",
      "metadata": {},
      "source": []
    }
  ],
  "metadata": {
    "colab": {
      "provenance": []
    },
    "kernelspec": {
      "display_name": "Python 3",
      "language": "python",
      "name": "python3"
    },
    "language_info": {
      "codemirror_mode": {
        "name": "ipython",
        "version": 3
      },
      "file_extension": ".py",
      "mimetype": "text/x-python",
      "name": "python",
      "nbconvert_exporter": "python",
      "pygments_lexer": "ipython3",
      "version": "3.9.18"
    },
    "vscode": {
      "interpreter": {
        "hash": "31f2aee4e71d21fbe5cf8b01ff0e069b9275f58929596ceb00d14d90e3e16cd6"
      }
    }
  },
  "nbformat": 4,
  "nbformat_minor": 0
}
